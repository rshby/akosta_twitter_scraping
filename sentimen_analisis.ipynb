{
 "cells": [
  {
   "cell_type": "code",
   "execution_count": 87,
   "id": "c8fa2027",
   "metadata": {},
   "outputs": [
    {
     "name": "stderr",
     "output_type": "stream",
     "text": [
      "C:\\Users\\ROG\\AppData\\Local\\Temp/ipykernel_7904/2735467266.py:4: FutureWarning: Passing a negative integer is deprecated in version 1.0 and will not be supported in future version. Instead, use None to not limit the column width.\n",
      "  pd.set_option('display.max_colwidth', -1)\n"
     ]
    }
   ],
   "source": [
    "import pandas as pd\n",
    "from textblob import TextBlob\n",
    "import numpy as np\n",
    "pd.set_option('display.max_colwidth', -1)\n",
    "from deep_translator import GoogleTranslator"
   ]
  },
  {
   "cell_type": "code",
   "execution_count": 88,
   "id": "064b537c",
   "metadata": {},
   "outputs": [],
   "source": [
    "df = (pd.read_feather(\"dataset/data_kalimat_clean.feather\").loc[:, [\"text\", \"kalimat_clean\"]])\n",
    "df[\"kalimat_clean\"] = df[\"kalimat_clean\"].str.replace(\"rt\", \"\")\n",
    "df[\"kalimat_clean\"] = df[\"kalimat_clean\"].str.replace(\"sbmptnfess\", \"\")\n",
    "df[\"kalimat_clean\"] = df[\"kalimat_clean\"].str.replace(\"tegalfess\", \"\")\n",
    "df[\"kalimat_clean\"] = df[\"kalimat_clean\"].str.replace(\"https\", \"\")\n",
    "df[\"kalimat_clean\"] = df[\"kalimat_clean\"].str.replace(\"sbyfess\", \"\")\n",
    "df[\"kalimat_clean\"] = df[\"kalimat_clean\"].str.replace(\"keniaos\", \"\")\n",
    "df[\"kalimat_clean\"] = df[\"kalimat_clean\"].str.replace(\"wkwk\", \"\")\n",
    "df[\"kalimat_clean\"] = df[\"kalimat_clean\"].str.replace(\"collegemenfess\", \"\")\n",
    "df[\"kalimat_clean\"] = df[\"kalimat_clean\"].str.replace(\"que\", \"\")\n",
    "df[\"kalimat_clean\"] = df[\"kalimat_clean\"].str.replace(\"melankos\", \"\")\n",
    "df[\"kalimat_clean\"] = df[\"kalimat_clean\"].str.replace(\"jogmfs\", \"\")\n",
    "df[\"kalimat_clean\"] = df[\"kalimat_clean\"].str.replace(\"undipmenfess\", \"\")\n",
    "df[\"kalimat_clean\"] = df[\"kalimat_clean\"].str.replace(\"ngalamfess\", \"\")\n",
    "df[\"kalimat_clean\"] = df[\"kalimat_clean\"].str.replace(\"ubsansfess\", \"\")\n",
    "df[\"kalimat_clean\"] = df[\"kalimat_clean\"].str.replace(\"karawangfess\", \"\")\n",
    "df[\"kalimat_clean\"] = df[\"kalimat_clean\"].str.replace(\"stanmenfess\", \"\")\n",
    "df[\"kalimat_clean\"] = df[\"kalimat_clean\"].str.replace(\"schfess\", \"\")\n",
    "df[\"kalimat_clean\"] = df[\"kalimat_clean\"].str.replace(\"utbkfess\", \"\")\n",
    "df = df.drop(19, axis=\"rows\").reset_index(drop=True)"
   ]
  },
  {
   "cell_type": "code",
   "execution_count": 90,
   "id": "adb99e4d",
   "metadata": {},
   "outputs": [],
   "source": [
    "df[\"kalimat_en\"] = \"\"\n",
    "for i in range(len(df[\"kalimat_clean\"])):\n",
    "    df[\"kalimat_en\"][i] = GoogleTranslator(source=\"auto\", target=\"en\").translate(df[\"kalimat_clean\"][i])"
   ]
  },
  {
   "cell_type": "code",
   "execution_count": 94,
   "id": "4ec720ca",
   "metadata": {},
   "outputs": [],
   "source": [
    "df['sentiment'] = df['kalimat_en'].apply(lambda tweet: TextBlob(tweet).sentiment.polarity)"
   ]
  },
  {
   "cell_type": "code",
   "execution_count": 98,
   "id": "437668a3",
   "metadata": {},
   "outputs": [],
   "source": [
    "#df.to_feather(\"dataset/data_sentiment.feather\")"
   ]
  },
  {
   "cell_type": "code",
   "execution_count": 97,
   "id": "ba4804a4",
   "metadata": {},
   "outputs": [
    {
     "data": {
      "text/plain": [
       " 0.000000    124\n",
       " 0.100000    8  \n",
       " 0.200000    5  \n",
       " 0.450000    3  \n",
       " 0.550000    3  \n",
       " 0.500000    3  \n",
       " 0.400000    3  \n",
       " 0.285714    2  \n",
       " 0.150000    2  \n",
       " 0.042857    2  \n",
       "-0.500000    1  \n",
       " 0.316667    1  \n",
       "-0.250000    1  \n",
       " 0.116667    1  \n",
       " 0.356250    1  \n",
       " 0.250000    1  \n",
       " 0.408333    1  \n",
       " 0.433333    1  \n",
       "-0.075000    1  \n",
       " 0.300000    1  \n",
       "-0.200000    1  \n",
       "-0.085185    1  \n",
       " 0.800000    1  \n",
       "-0.033333    1  \n",
       "-0.063889    1  \n",
       " 0.053333    1  \n",
       "-0.100000    1  \n",
       " 0.700000    1  \n",
       " 0.350000    1  \n",
       "-0.150000    1  \n",
       "-0.050000    1  \n",
       "-0.300000    1  \n",
       "Name: sentiment, dtype: int64"
      ]
     },
     "execution_count": 97,
     "metadata": {},
     "output_type": "execute_result"
    }
   ],
   "source": [
    "df[\"sentiment\"].value_counts(dropna=False)"
   ]
  },
  {
   "cell_type": "code",
   "execution_count": null,
   "id": "1834e64d",
   "metadata": {},
   "outputs": [],
   "source": []
  }
 ],
 "metadata": {
  "kernelspec": {
   "display_name": "Python 3 (ipykernel)",
   "language": "python",
   "name": "python3"
  },
  "language_info": {
   "codemirror_mode": {
    "name": "ipython",
    "version": 3
   },
   "file_extension": ".py",
   "mimetype": "text/x-python",
   "name": "python",
   "nbconvert_exporter": "python",
   "pygments_lexer": "ipython3",
   "version": "3.9.5"
  }
 },
 "nbformat": 4,
 "nbformat_minor": 5
}
